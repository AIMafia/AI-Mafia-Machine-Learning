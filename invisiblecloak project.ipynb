{
 "cells": [
  {
   "cell_type": "code",
   "execution_count": 1,
   "metadata": {},
   "outputs": [],
   "source": [
    "import numpy as np\n",
    "import cv2\n",
    "import time\n"
   ]
  },
  {
   "cell_type": "code",
   "execution_count": 2,
   "metadata": {},
   "outputs": [],
   "source": [
    "cap=cv2.VideoCapture(0)\n",
    "time.sleep(2)\n",
    "backgroud=0\n",
    "for i in range(30):\n",
    "    ret,background=cap.read()\n",
    "while(cap.isOpened()):\n",
    "    ret,img=cap.read()\n",
    "    if not ret:\n",
    "        break\n",
    "    hsv=cv2.cvtColor(img,cv2.COLOR_BGR2HSV)\n",
    "    lower_red=np.array([0,120,70])\n",
    "    upper_red=np.array([10,225,225])\n",
    "    mask1=cv2.inRange(hsv,lower_red,upper_red)\n",
    "    lower_red=np.array([170,120,70])\n",
    "    upper_red=np.array([180,225,225])\n",
    "    mask2=cv2.inRange(hsv,lower_red,upper_red)\n",
    "    mark1=mask1+mask2\n",
    "    mask1=cv2.morphologyEx(mask1,cv2.MORPH_OPEN,np.ones((3,3),np.uint8),iterations=2)\n",
    "    mask1=cv2.morphologyEx(mask1,cv2.MORPH_DILATE,np.ones((3,3),np.uint8),iterations=1)\n",
    "    mask2=cv2.bitwise_not(mask1)\n",
    "    res1=cv2.bitwise_and(background,background,mask=mask1)\n",
    "    res2=cv2.bitwise_and(img,img,mask=mask2)\n",
    "    final_output=cv2.addWeighted(res1,1,res2,2,0)\n",
    "    cv2.imshow(\"eureka\",final_output)\n",
    "    k=cv2.waitKey(1)\n",
    "    if k==ord(\"q\"):\n",
    "        break"
   ]
  },
  {
   "cell_type": "code",
   "execution_count": null,
   "metadata": {},
   "outputs": [],
   "source": []
  }
 ],
 "metadata": {
  "kernelspec": {
   "display_name": "Python 3",
   "language": "python",
   "name": "python3"
  },
  "language_info": {
   "codemirror_mode": {
    "name": "ipython",
    "version": 3
   },
   "file_extension": ".py",
   "mimetype": "text/x-python",
   "name": "python",
   "nbconvert_exporter": "python",
   "pygments_lexer": "ipython3",
   "version": "3.8.5"
  }
 },
 "nbformat": 4,
 "nbformat_minor": 4
}
